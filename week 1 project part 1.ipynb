{
 "cells": [
  {
   "cell_type": "markdown",
   "metadata": {},
   "source": [
    "Scope:\n",
    "Berlin and Hamburg are Germany's two largest cities. While Berlin has a total number of people roughtly 3.6 million inhabitants and Hamburg with the total of 1.8 million, both cities are very different. Berlin is filled with an eclectic mix of history, culture and gorgeous sights, berlin is a city that intrigues yet embraces visitors with open arms. The city is bursting with internationality as a result of many new residents from all over the world. Germany’s second city,  Hamburg is both typically German and specia; in its own way. With a long m history, this North Sea port city has a unique feel from anywhere else in the country and tons of cool things to see and do.\n",
    "\n",
    "Both cities beeing in the northern part of Germany, there is a great exchange between residents of both cities. This analysis is intended to show which areas of one city resemble those of the other: Berlin and Hamburg."
   ]
  },
  {
   "cell_type": "markdown",
   "metadata": {},
   "source": []
  },
  {
   "cell_type": "code",
   "execution_count": null,
   "metadata": {},
   "outputs": [],
   "source": []
  }
 ],
 "metadata": {
  "kernelspec": {
   "display_name": "Python 3",
   "language": "python",
   "name": "python3"
  },
  "language_info": {
   "codemirror_mode": {
    "name": "ipython",
    "version": 3
   },
   "file_extension": ".py",
   "mimetype": "text/x-python",
   "name": "python",
   "nbconvert_exporter": "python",
   "pygments_lexer": "ipython3",
   "version": "3.7.6"
  }
 },
 "nbformat": 4,
 "nbformat_minor": 4
}
